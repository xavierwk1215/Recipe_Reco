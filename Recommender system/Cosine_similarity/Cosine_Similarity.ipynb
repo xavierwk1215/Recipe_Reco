{
 "cells": [
  {
   "cell_type": "code",
   "execution_count": 1,
   "id": "a9b95c15",
   "metadata": {},
   "outputs": [],
   "source": [
    "import random\n",
    "import torch\n",
    "import torch.nn as nn"
   ]
  },
  {
   "cell_type": "code",
   "execution_count": 2,
   "id": "8399a503",
   "metadata": {},
   "outputs": [],
   "source": [
    "# 이미지의 식재료 embedding이 있다고 가정\n",
    "ing_image = torch.randn(1, 30)"
   ]
  },
  {
   "cell_type": "code",
   "execution_count": 3,
   "id": "b3fd0670",
   "metadata": {},
   "outputs": [],
   "source": [
    "# 레시피의 식재료 embedding column이 있다고 가정\n",
    "ing_recipe = [[random.randint(1, 100) for _ in range(30)] for _ in range(100)]\n",
    "ing_recipe = torch.tensor(ing_recipe)"
   ]
  },
  {
   "cell_type": "code",
   "execution_count": 4,
   "id": "1e2cb510",
   "metadata": {},
   "outputs": [],
   "source": [
    "cos = nn.CosineSimilarity(dim=1)\n",
    "similarity = cos(ing_image, ing_recipe)"
   ]
  },
  {
   "cell_type": "code",
   "execution_count": 5,
   "id": "61743c36",
   "metadata": {},
   "outputs": [],
   "source": [
    "# 이후 similarity를 recipe DataFrame에 합쳐준 뒤,\n",
    "# sort 함수로 similarity에 따라 df sorting\n",
    "# head 함수로 top 5 print 혹은 .iloc 이용하여 df 추출하여 활용"
   ]
  },
  {
   "cell_type": "code",
   "execution_count": null,
   "id": "466d3f47",
   "metadata": {},
   "outputs": [],
   "source": []
  }
 ],
 "metadata": {
  "kernelspec": {
   "display_name": "Python 3 (ipykernel)",
   "language": "python",
   "name": "python3"
  },
  "language_info": {
   "codemirror_mode": {
    "name": "ipython",
    "version": 3
   },
   "file_extension": ".py",
   "mimetype": "text/x-python",
   "name": "python",
   "nbconvert_exporter": "python",
   "pygments_lexer": "ipython3",
   "version": "3.8.16"
  }
 },
 "nbformat": 4,
 "nbformat_minor": 5
}
