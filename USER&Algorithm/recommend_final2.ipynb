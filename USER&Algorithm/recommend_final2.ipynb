{
 "cells": [
  {
   "cell_type": "code",
   "execution_count": 5,
   "metadata": {},
   "outputs": [],
   "source": [
    "import pandas as pd"
   ]
  },
  {
   "cell_type": "code",
   "execution_count": 6,
   "metadata": {},
   "outputs": [],
   "source": [
    "recipes = pd.read_csv('./output_recipes.csv')\n",
    "\n",
    "new = pd.read_csv('./existence.csv')\n",
    "\n",
    "user_db = pd.read_csv('./user_db1.csv')"
   ]
  },
  {
   "cell_type": "code",
   "execution_count": 7,
   "metadata": {},
   "outputs": [],
   "source": [
    "\n",
    "def find_matching_recipes(user_id_input, password_input, ingredients, vegan_vege=False, dish_type=None, healthy=False):\n",
    "\n",
    "\n",
    "    def login(user_id_input, password_input):\n",
    "        user_data = user_db[user_db['id'] == user_id_input]\n",
    "        if not user_data.empty and user_data['password'].values[0] == password_input:\n",
    "            return user_data\n",
    "        return None\n",
    "\n",
    "    def find_top_matching_rows(user_data, matching_rows):\n",
    "        common_ingredients = [col for col in user_data.columns if col not in ['id', 'password']]\n",
    "        matching_rows['total_score'] = matching_rows[common_ingredients].mul(user_data[common_ingredients].values[0]).sum(axis=1)\n",
    "        top_5_rows = matching_rows.nlargest(5, 'total_score')\n",
    "        return top_5_rows['id'].tolist()\n",
    "\n",
    "    matching_rows = pd.DataFrame()\n",
    "\n",
    "    for ingredient in ingredients:\n",
    "        if ingredient in new.columns:\n",
    "            matching_rows = new[new[ingredient] == 1]\n",
    "\n",
    "    if vegan_vege:\n",
    "        matching_rows = matching_rows[matching_rows['vegan/vege'].isin([True, False])]\n",
    "\n",
    "    if dish_type:\n",
    "        matching_rows = matching_rows[matching_rows['food type'].isin(dish_type)]\n",
    "\n",
    "    if healthy:\n",
    "        matching_rows = matching_rows[matching_rows['healthiness'].isin([True, False])]\n",
    "\n",
    "    matching_rows.reset_index(drop=True, inplace=True)\n",
    "\n",
    "    user_data = login(user_id_input, password_input)\n",
    "\n",
    "    if user_data is not None:\n",
    "        user_data = user_data.reset_index(drop=True)\n",
    "        top_5_matching_ids = find_top_matching_rows(user_data, matching_rows)\n",
    "        if top_5_matching_ids:\n",
    "            return top_5_matching_ids\n",
    "        else:\n",
    "            return []\n",
    "    else:\n",
    "        return None\n",
    "\n"
   ]
  },
  {
   "cell_type": "code",
   "execution_count": 8,
   "metadata": {},
   "outputs": [
    {
     "name": "stdout",
     "output_type": "stream",
     "text": [
      "Top 5 matching dish IDs:\n",
      "[461060, 88743, 64535, 434460, 385128]\n"
     ]
    }
   ],
   "source": [
    "user_id = 'TEST122'\n",
    "password = 'TEST122'\n",
    "ingredients = ['beef']\n",
    "vegan_vege = False\n",
    "dish_type = ['dish']\n",
    "healthy = False\n",
    "\n",
    "top_5_matching_ids = find_matching_recipes(user_id, password, ingredients, vegan_vege, dish_type, healthy)\n",
    "\n",
    "if top_5_matching_ids:\n",
    "    print(\"Top 5 matching dish IDs:\")\n",
    "    print(top_5_matching_ids)\n",
    "else:\n",
    "    print(\"No matching dishes found.\")"
   ]
  },
  {
   "cell_type": "code",
   "execution_count": null,
   "metadata": {},
   "outputs": [],
   "source": []
  }
 ],
 "metadata": {
  "kernelspec": {
   "display_name": "ds_study",
   "language": "python",
   "name": "python3"
  },
  "language_info": {
   "codemirror_mode": {
    "name": "ipython",
    "version": 3
   },
   "file_extension": ".py",
   "mimetype": "text/x-python",
   "name": "python",
   "nbconvert_exporter": "python",
   "pygments_lexer": "ipython3",
   "version": "3.8.16"
  },
  "orig_nbformat": 4
 },
 "nbformat": 4,
 "nbformat_minor": 2
}
