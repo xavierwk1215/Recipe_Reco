{
  "nbformat": 4,
  "nbformat_minor": 0,
  "metadata": {
    "colab": {
      "provenance": []
    },
    "kernelspec": {
      "name": "python3",
      "display_name": "Python 3"
    },
    "language_info": {
      "name": "python"
    }
  },
  "cells": [
    {
      "cell_type": "code",
      "source": [
        "!pip install roboflow\n"
      ],
      "metadata": {
        "colab": {
          "base_uri": "https://localhost:8080/",
          "height": 1000
        },
        "id": "FRzinz3Og49M",
        "outputId": "a98d1626-97f5-4070-82fb-197c437f025d"
      },
      "execution_count": 1,
      "outputs": [
        {
          "output_type": "stream",
          "name": "stdout",
          "text": [
            "Collecting roboflow\n",
            "  Downloading roboflow-1.1.2-py3-none-any.whl (57 kB)\n",
            "\u001b[2K     \u001b[90m━━━━━━━━━━━━━━━━━━━━━━━━━━━━━━━━━━━━━━━\u001b[0m \u001b[32m57.4/57.4 kB\u001b[0m \u001b[31m313.4 kB/s\u001b[0m eta \u001b[36m0:00:00\u001b[0m\n",
            "\u001b[?25hCollecting certifi==2022.12.7 (from roboflow)\n",
            "  Downloading certifi-2022.12.7-py3-none-any.whl (155 kB)\n",
            "\u001b[2K     \u001b[90m━━━━━━━━━━━━━━━━━━━━━━━━━━━━━━━━━━━━━━━\u001b[0m \u001b[32m155.3/155.3 kB\u001b[0m \u001b[31m4.0 MB/s\u001b[0m eta \u001b[36m0:00:00\u001b[0m\n",
            "\u001b[?25hRequirement already satisfied: chardet==4.0.0 in /usr/local/lib/python3.10/dist-packages (from roboflow) (4.0.0)\n",
            "Collecting cycler==0.10.0 (from roboflow)\n",
            "  Downloading cycler-0.10.0-py2.py3-none-any.whl (6.5 kB)\n",
            "Collecting idna==2.10 (from roboflow)\n",
            "  Downloading idna-2.10-py2.py3-none-any.whl (58 kB)\n",
            "\u001b[2K     \u001b[90m━━━━━━━━━━━━━━━━━━━━━━━━━━━━━━━━━━━━━━━━\u001b[0m \u001b[32m58.8/58.8 kB\u001b[0m \u001b[31m3.7 MB/s\u001b[0m eta \u001b[36m0:00:00\u001b[0m\n",
            "\u001b[?25hRequirement already satisfied: kiwisolver>=1.3.1 in /usr/local/lib/python3.10/dist-packages (from roboflow) (1.4.4)\n",
            "Requirement already satisfied: matplotlib in /usr/local/lib/python3.10/dist-packages (from roboflow) (3.7.1)\n",
            "Requirement already satisfied: numpy>=1.18.5 in /usr/local/lib/python3.10/dist-packages (from roboflow) (1.22.4)\n",
            "Requirement already satisfied: opencv-python>=4.1.2 in /usr/local/lib/python3.10/dist-packages (from roboflow) (4.7.0.72)\n",
            "Requirement already satisfied: Pillow>=7.1.2 in /usr/local/lib/python3.10/dist-packages (from roboflow) (8.4.0)\n",
            "Collecting pyparsing==2.4.7 (from roboflow)\n",
            "  Downloading pyparsing-2.4.7-py2.py3-none-any.whl (67 kB)\n",
            "\u001b[2K     \u001b[90m━━━━━━━━━━━━━━━━━━━━━━━━━━━━━━━━━━━━━━━━\u001b[0m \u001b[32m67.8/67.8 kB\u001b[0m \u001b[31m4.1 MB/s\u001b[0m eta \u001b[36m0:00:00\u001b[0m\n",
            "\u001b[?25hRequirement already satisfied: python-dateutil in /usr/local/lib/python3.10/dist-packages (from roboflow) (2.8.2)\n",
            "Collecting python-dotenv (from roboflow)\n",
            "  Downloading python_dotenv-1.0.0-py3-none-any.whl (19 kB)\n",
            "Requirement already satisfied: requests in /usr/local/lib/python3.10/dist-packages (from roboflow) (2.27.1)\n",
            "Requirement already satisfied: six in /usr/local/lib/python3.10/dist-packages (from roboflow) (1.16.0)\n",
            "Collecting supervision (from roboflow)\n",
            "  Downloading supervision-0.11.1-py3-none-any.whl (55 kB)\n",
            "\u001b[2K     \u001b[90m━━━━━━━━━━━━━━━━━━━━━━━━━━━━━━━━━━━━━━━━\u001b[0m \u001b[32m55.6/55.6 kB\u001b[0m \u001b[31m4.5 MB/s\u001b[0m eta \u001b[36m0:00:00\u001b[0m\n",
            "\u001b[?25hRequirement already satisfied: urllib3>=1.26.6 in /usr/local/lib/python3.10/dist-packages (from roboflow) (1.26.16)\n",
            "Collecting wget (from roboflow)\n",
            "  Downloading wget-3.2.zip (10 kB)\n",
            "  Preparing metadata (setup.py) ... \u001b[?25l\u001b[?25hdone\n",
            "Requirement already satisfied: tqdm>=4.41.0 in /usr/local/lib/python3.10/dist-packages (from roboflow) (4.65.0)\n",
            "Requirement already satisfied: PyYAML>=5.3.1 in /usr/local/lib/python3.10/dist-packages (from roboflow) (6.0)\n",
            "Collecting requests-toolbelt (from roboflow)\n",
            "  Downloading requests_toolbelt-1.0.0-py2.py3-none-any.whl (54 kB)\n",
            "\u001b[2K     \u001b[90m━━━━━━━━━━━━━━━━━━━━━━━━━━━━━━━━━━━━━━━━\u001b[0m \u001b[32m54.5/54.5 kB\u001b[0m \u001b[31m4.6 MB/s\u001b[0m eta \u001b[36m0:00:00\u001b[0m\n",
            "\u001b[?25hRequirement already satisfied: contourpy>=1.0.1 in /usr/local/lib/python3.10/dist-packages (from matplotlib->roboflow) (1.1.0)\n",
            "Requirement already satisfied: fonttools>=4.22.0 in /usr/local/lib/python3.10/dist-packages (from matplotlib->roboflow) (4.41.0)\n",
            "Requirement already satisfied: packaging>=20.0 in /usr/local/lib/python3.10/dist-packages (from matplotlib->roboflow) (23.1)\n",
            "Requirement already satisfied: charset-normalizer~=2.0.0 in /usr/local/lib/python3.10/dist-packages (from requests->roboflow) (2.0.12)\n",
            "Building wheels for collected packages: wget\n",
            "  Building wheel for wget (setup.py) ... \u001b[?25l\u001b[?25hdone\n",
            "  Created wheel for wget: filename=wget-3.2-py3-none-any.whl size=9657 sha256=2ae819b71fd0dbf7f4dc9ea71a7ddde9fd47fac98c85e10716792367f8612658\n",
            "  Stored in directory: /root/.cache/pip/wheels/8b/f1/7f/5c94f0a7a505ca1c81cd1d9208ae2064675d97582078e6c769\n",
            "Successfully built wget\n",
            "Installing collected packages: wget, python-dotenv, pyparsing, idna, cycler, certifi, supervision, requests-toolbelt, roboflow\n",
            "  Attempting uninstall: pyparsing\n",
            "    Found existing installation: pyparsing 3.1.0\n",
            "    Uninstalling pyparsing-3.1.0:\n",
            "      Successfully uninstalled pyparsing-3.1.0\n",
            "  Attempting uninstall: idna\n",
            "    Found existing installation: idna 3.4\n",
            "    Uninstalling idna-3.4:\n",
            "      Successfully uninstalled idna-3.4\n",
            "  Attempting uninstall: cycler\n",
            "    Found existing installation: cycler 0.11.0\n",
            "    Uninstalling cycler-0.11.0:\n",
            "      Successfully uninstalled cycler-0.11.0\n",
            "  Attempting uninstall: certifi\n",
            "    Found existing installation: certifi 2023.5.7\n",
            "    Uninstalling certifi-2023.5.7:\n",
            "      Successfully uninstalled certifi-2023.5.7\n",
            "Successfully installed certifi-2022.12.7 cycler-0.10.0 idna-2.10 pyparsing-2.4.7 python-dotenv-1.0.0 requests-toolbelt-1.0.0 roboflow-1.1.2 supervision-0.11.1 wget-3.2\n"
          ]
        },
        {
          "output_type": "display_data",
          "data": {
            "application/vnd.colab-display-data+json": {
              "pip_warning": {
                "packages": [
                  "certifi",
                  "cycler",
                  "pyparsing"
                ]
              }
            }
          },
          "metadata": {}
        }
      ]
    },
    {
      "cell_type": "code",
      "execution_count": 2,
      "metadata": {
        "colab": {
          "base_uri": "https://localhost:8080/"
        },
        "id": "fQ6EoJsub-z0",
        "outputId": "31fc6af4-73d7-4883-9597-7812752cf4dd"
      },
      "outputs": [
        {
          "output_type": "stream",
          "name": "stdout",
          "text": [
            "loading Roboflow workspace...\n",
            "loading Roboflow project...\n",
            "Downloading Dataset Version Zip in Food-Ingredients-Image-Detection_Team4-1 to multiclass: 100% [579638971 / 579638971] bytes\n"
          ]
        },
        {
          "output_type": "stream",
          "name": "stderr",
          "text": [
            "Extracting Dataset Version Zip to Food-Ingredients-Image-Detection_Team4-1 in multiclass:: 100%|██████████| 9909/9909 [00:04<00:00, 2050.88it/s]\n"
          ]
        }
      ],
      "source": [
        "\n",
        "from roboflow import Roboflow\n",
        "rf = Roboflow(api_key=\"8Zv6K9jnOf2w4tz7CTlg\")\n",
        "project = rf.workspace(\"dsstudy-h0rzy\").project(\"food-ingredients-image-detection_team4\")\n",
        "dataset = project.version(1).download(\"multiclass\")\n"
      ]
    },
    {
      "cell_type": "code",
      "source": [
        "from roboflow import Roboflow\n",
        "rf = Roboflow(api_key=\"8Zv6K9jnOf2w4tz7CTlg\")\n",
        "project = rf.workspace(\"onmk0428-naver-com\").project(\"food-dlp59\")\n",
        "dataset = project.version(2).download(\"multiclass\")\n"
      ],
      "metadata": {
        "colab": {
          "base_uri": "https://localhost:8080/"
        },
        "id": "lI2S9Lcmg3Z_",
        "outputId": "abbf4d55-814b-4900-aab0-e6f1da9cfdb0"
      },
      "execution_count": 3,
      "outputs": [
        {
          "output_type": "stream",
          "name": "stdout",
          "text": [
            "loading Roboflow workspace...\n",
            "loading Roboflow project...\n",
            "Downloading Dataset Version Zip in food-2 to multiclass: 100% [368079321 / 368079321] bytes\n"
          ]
        },
        {
          "output_type": "stream",
          "name": "stderr",
          "text": [
            "Extracting Dataset Version Zip to food-2 in multiclass:: 100%|██████████| 12346/12346 [00:04<00:00, 2582.29it/s]\n"
          ]
        }
      ]
    },
    {
      "cell_type": "code",
      "source": [
        "!pip install roboflow\n",
        "\n",
        "from roboflow import Roboflow\n",
        "rf = Roboflow(api_key=\"8Zv6K9jnOf2w4tz7CTlg\")\n",
        "project = rf.workspace(\"elarabygroupelinux\").project(\"tornado\")\n",
        "dataset = project.version(3).download(\"multiclass\")\n"
      ],
      "metadata": {
        "colab": {
          "base_uri": "https://localhost:8080/"
        },
        "id": "pdKYP15ag6PI",
        "outputId": "86af0a1b-aa79-460b-b165-cb400c57790b"
      },
      "execution_count": 4,
      "outputs": [
        {
          "output_type": "stream",
          "name": "stdout",
          "text": [
            "Requirement already satisfied: roboflow in /usr/local/lib/python3.10/dist-packages (1.1.2)\n",
            "Requirement already satisfied: certifi==2022.12.7 in /usr/local/lib/python3.10/dist-packages (from roboflow) (2022.12.7)\n",
            "Requirement already satisfied: chardet==4.0.0 in /usr/local/lib/python3.10/dist-packages (from roboflow) (4.0.0)\n",
            "Requirement already satisfied: cycler==0.10.0 in /usr/local/lib/python3.10/dist-packages (from roboflow) (0.10.0)\n",
            "Requirement already satisfied: idna==2.10 in /usr/local/lib/python3.10/dist-packages (from roboflow) (2.10)\n",
            "Requirement already satisfied: kiwisolver>=1.3.1 in /usr/local/lib/python3.10/dist-packages (from roboflow) (1.4.4)\n",
            "Requirement already satisfied: matplotlib in /usr/local/lib/python3.10/dist-packages (from roboflow) (3.7.1)\n",
            "Requirement already satisfied: numpy>=1.18.5 in /usr/local/lib/python3.10/dist-packages (from roboflow) (1.22.4)\n",
            "Requirement already satisfied: opencv-python>=4.1.2 in /usr/local/lib/python3.10/dist-packages (from roboflow) (4.7.0.72)\n",
            "Requirement already satisfied: Pillow>=7.1.2 in /usr/local/lib/python3.10/dist-packages (from roboflow) (8.4.0)\n",
            "Requirement already satisfied: pyparsing==2.4.7 in /usr/local/lib/python3.10/dist-packages (from roboflow) (2.4.7)\n",
            "Requirement already satisfied: python-dateutil in /usr/local/lib/python3.10/dist-packages (from roboflow) (2.8.2)\n",
            "Requirement already satisfied: python-dotenv in /usr/local/lib/python3.10/dist-packages (from roboflow) (1.0.0)\n",
            "Requirement already satisfied: requests in /usr/local/lib/python3.10/dist-packages (from roboflow) (2.27.1)\n",
            "Requirement already satisfied: six in /usr/local/lib/python3.10/dist-packages (from roboflow) (1.16.0)\n",
            "Requirement already satisfied: supervision in /usr/local/lib/python3.10/dist-packages (from roboflow) (0.11.1)\n",
            "Requirement already satisfied: urllib3>=1.26.6 in /usr/local/lib/python3.10/dist-packages (from roboflow) (1.26.16)\n",
            "Requirement already satisfied: wget in /usr/local/lib/python3.10/dist-packages (from roboflow) (3.2)\n",
            "Requirement already satisfied: tqdm>=4.41.0 in /usr/local/lib/python3.10/dist-packages (from roboflow) (4.65.0)\n",
            "Requirement already satisfied: PyYAML>=5.3.1 in /usr/local/lib/python3.10/dist-packages (from roboflow) (6.0)\n",
            "Requirement already satisfied: requests-toolbelt in /usr/local/lib/python3.10/dist-packages (from roboflow) (1.0.0)\n",
            "Requirement already satisfied: contourpy>=1.0.1 in /usr/local/lib/python3.10/dist-packages (from matplotlib->roboflow) (1.1.0)\n",
            "Requirement already satisfied: fonttools>=4.22.0 in /usr/local/lib/python3.10/dist-packages (from matplotlib->roboflow) (4.41.0)\n",
            "Requirement already satisfied: packaging>=20.0 in /usr/local/lib/python3.10/dist-packages (from matplotlib->roboflow) (23.1)\n",
            "Requirement already satisfied: charset-normalizer~=2.0.0 in /usr/local/lib/python3.10/dist-packages (from requests->roboflow) (2.0.12)\n",
            "loading Roboflow workspace...\n",
            "loading Roboflow project...\n",
            "Downloading Dataset Version Zip in Tornado-3 to multiclass: 100% [1032838089 / 1032838089] bytes\n"
          ]
        },
        {
          "output_type": "stream",
          "name": "stderr",
          "text": [
            "Extracting Dataset Version Zip to Tornado-3 in multiclass:: 100%|██████████| 9775/9775 [00:11<00:00, 820.57it/s] \n"
          ]
        }
      ]
    },
    {
      "cell_type": "code",
      "source": [
        "!pip install roboflow\n",
        "\n",
        "from roboflow import Roboflow\n",
        "rf = Roboflow(api_key=\"8Zv6K9jnOf2w4tz7CTlg\")\n",
        "project = rf.workspace(\"test-image-preprocessing\").project(\"food-ingredient-recognition-51ngf\")\n",
        "dataset = project.version(4).download(\"multiclass\")\n"
      ],
      "metadata": {
        "colab": {
          "base_uri": "https://localhost:8080/"
        },
        "id": "nfhFhYYVhIM7",
        "outputId": "b0a5e258-12dd-4a38-c12f-d20fa55854f1"
      },
      "execution_count": 5,
      "outputs": [
        {
          "output_type": "stream",
          "name": "stdout",
          "text": [
            "Requirement already satisfied: roboflow in /usr/local/lib/python3.10/dist-packages (1.1.2)\n",
            "Requirement already satisfied: certifi==2022.12.7 in /usr/local/lib/python3.10/dist-packages (from roboflow) (2022.12.7)\n",
            "Requirement already satisfied: chardet==4.0.0 in /usr/local/lib/python3.10/dist-packages (from roboflow) (4.0.0)\n",
            "Requirement already satisfied: cycler==0.10.0 in /usr/local/lib/python3.10/dist-packages (from roboflow) (0.10.0)\n",
            "Requirement already satisfied: idna==2.10 in /usr/local/lib/python3.10/dist-packages (from roboflow) (2.10)\n",
            "Requirement already satisfied: kiwisolver>=1.3.1 in /usr/local/lib/python3.10/dist-packages (from roboflow) (1.4.4)\n",
            "Requirement already satisfied: matplotlib in /usr/local/lib/python3.10/dist-packages (from roboflow) (3.7.1)\n",
            "Requirement already satisfied: numpy>=1.18.5 in /usr/local/lib/python3.10/dist-packages (from roboflow) (1.22.4)\n",
            "Requirement already satisfied: opencv-python>=4.1.2 in /usr/local/lib/python3.10/dist-packages (from roboflow) (4.7.0.72)\n",
            "Requirement already satisfied: Pillow>=7.1.2 in /usr/local/lib/python3.10/dist-packages (from roboflow) (8.4.0)\n",
            "Requirement already satisfied: pyparsing==2.4.7 in /usr/local/lib/python3.10/dist-packages (from roboflow) (2.4.7)\n",
            "Requirement already satisfied: python-dateutil in /usr/local/lib/python3.10/dist-packages (from roboflow) (2.8.2)\n",
            "Requirement already satisfied: python-dotenv in /usr/local/lib/python3.10/dist-packages (from roboflow) (1.0.0)\n",
            "Requirement already satisfied: requests in /usr/local/lib/python3.10/dist-packages (from roboflow) (2.27.1)\n",
            "Requirement already satisfied: six in /usr/local/lib/python3.10/dist-packages (from roboflow) (1.16.0)\n",
            "Requirement already satisfied: supervision in /usr/local/lib/python3.10/dist-packages (from roboflow) (0.11.1)\n",
            "Requirement already satisfied: urllib3>=1.26.6 in /usr/local/lib/python3.10/dist-packages (from roboflow) (1.26.16)\n",
            "Requirement already satisfied: wget in /usr/local/lib/python3.10/dist-packages (from roboflow) (3.2)\n",
            "Requirement already satisfied: tqdm>=4.41.0 in /usr/local/lib/python3.10/dist-packages (from roboflow) (4.65.0)\n",
            "Requirement already satisfied: PyYAML>=5.3.1 in /usr/local/lib/python3.10/dist-packages (from roboflow) (6.0)\n",
            "Requirement already satisfied: requests-toolbelt in /usr/local/lib/python3.10/dist-packages (from roboflow) (1.0.0)\n",
            "Requirement already satisfied: contourpy>=1.0.1 in /usr/local/lib/python3.10/dist-packages (from matplotlib->roboflow) (1.1.0)\n",
            "Requirement already satisfied: fonttools>=4.22.0 in /usr/local/lib/python3.10/dist-packages (from matplotlib->roboflow) (4.41.0)\n",
            "Requirement already satisfied: packaging>=20.0 in /usr/local/lib/python3.10/dist-packages (from matplotlib->roboflow) (23.1)\n",
            "Requirement already satisfied: charset-normalizer~=2.0.0 in /usr/local/lib/python3.10/dist-packages (from requests->roboflow) (2.0.12)\n",
            "loading Roboflow workspace...\n",
            "loading Roboflow project...\n",
            "Downloading Dataset Version Zip in Food-Ingredient-Recognition-4 to multiclass: 100% [1087304792 / 1087304792] bytes\n"
          ]
        },
        {
          "output_type": "stream",
          "name": "stderr",
          "text": [
            "Extracting Dataset Version Zip to Food-Ingredient-Recognition-4 in multiclass:: 100%|██████████| 13015/13015 [00:11<00:00, 1157.35it/s]\n"
          ]
        }
      ]
    },
    {
      "cell_type": "code",
      "source": [
        "!pip install roboflow\n",
        "\n",
        "from roboflow import Roboflow\n",
        "rf = Roboflow(api_key=\"8Zv6K9jnOf2w4tz7CTlg\")\n",
        "project = rf.workspace(\"project1-v416z\").project(\"ingredientdetect\")\n",
        "dataset = project.version(11).download(\"multiclass\")\n"
      ],
      "metadata": {
        "colab": {
          "base_uri": "https://localhost:8080/"
        },
        "id": "-YYtuOzhhOt3",
        "outputId": "8ca0d259-f4a2-40d2-816d-84d1f68f56e6"
      },
      "execution_count": 8,
      "outputs": [
        {
          "output_type": "stream",
          "name": "stdout",
          "text": [
            "Requirement already satisfied: roboflow in /usr/local/lib/python3.10/dist-packages (1.1.2)\n",
            "Requirement already satisfied: certifi==2022.12.7 in /usr/local/lib/python3.10/dist-packages (from roboflow) (2022.12.7)\n",
            "Requirement already satisfied: chardet==4.0.0 in /usr/local/lib/python3.10/dist-packages (from roboflow) (4.0.0)\n",
            "Requirement already satisfied: cycler==0.10.0 in /usr/local/lib/python3.10/dist-packages (from roboflow) (0.10.0)\n",
            "Requirement already satisfied: idna==2.10 in /usr/local/lib/python3.10/dist-packages (from roboflow) (2.10)\n",
            "Requirement already satisfied: kiwisolver>=1.3.1 in /usr/local/lib/python3.10/dist-packages (from roboflow) (1.4.4)\n",
            "Requirement already satisfied: matplotlib in /usr/local/lib/python3.10/dist-packages (from roboflow) (3.7.1)\n",
            "Requirement already satisfied: numpy>=1.18.5 in /usr/local/lib/python3.10/dist-packages (from roboflow) (1.22.4)\n",
            "Requirement already satisfied: opencv-python>=4.1.2 in /usr/local/lib/python3.10/dist-packages (from roboflow) (4.7.0.72)\n",
            "Requirement already satisfied: Pillow>=7.1.2 in /usr/local/lib/python3.10/dist-packages (from roboflow) (8.4.0)\n",
            "Requirement already satisfied: pyparsing==2.4.7 in /usr/local/lib/python3.10/dist-packages (from roboflow) (2.4.7)\n",
            "Requirement already satisfied: python-dateutil in /usr/local/lib/python3.10/dist-packages (from roboflow) (2.8.2)\n",
            "Requirement already satisfied: python-dotenv in /usr/local/lib/python3.10/dist-packages (from roboflow) (1.0.0)\n",
            "Requirement already satisfied: requests in /usr/local/lib/python3.10/dist-packages (from roboflow) (2.27.1)\n",
            "Requirement already satisfied: six in /usr/local/lib/python3.10/dist-packages (from roboflow) (1.16.0)\n",
            "Requirement already satisfied: supervision in /usr/local/lib/python3.10/dist-packages (from roboflow) (0.11.1)\n",
            "Requirement already satisfied: urllib3>=1.26.6 in /usr/local/lib/python3.10/dist-packages (from roboflow) (1.26.16)\n",
            "Requirement already satisfied: wget in /usr/local/lib/python3.10/dist-packages (from roboflow) (3.2)\n",
            "Requirement already satisfied: tqdm>=4.41.0 in /usr/local/lib/python3.10/dist-packages (from roboflow) (4.65.0)\n",
            "Requirement already satisfied: PyYAML>=5.3.1 in /usr/local/lib/python3.10/dist-packages (from roboflow) (6.0)\n",
            "Requirement already satisfied: requests-toolbelt in /usr/local/lib/python3.10/dist-packages (from roboflow) (1.0.0)\n",
            "Requirement already satisfied: contourpy>=1.0.1 in /usr/local/lib/python3.10/dist-packages (from matplotlib->roboflow) (1.1.0)\n",
            "Requirement already satisfied: fonttools>=4.22.0 in /usr/local/lib/python3.10/dist-packages (from matplotlib->roboflow) (4.41.0)\n",
            "Requirement already satisfied: packaging>=20.0 in /usr/local/lib/python3.10/dist-packages (from matplotlib->roboflow) (23.1)\n",
            "Requirement already satisfied: charset-normalizer~=2.0.0 in /usr/local/lib/python3.10/dist-packages (from requests->roboflow) (2.0.12)\n",
            "loading Roboflow workspace...\n",
            "loading Roboflow project...\n",
            "Downloading Dataset Version Zip in IngredientDetect-11 to multiclass: 99% [1700593664 / 1703410040] bytes"
          ]
        },
        {
          "output_type": "stream",
          "name": "stderr",
          "text": [
            "Extracting Dataset Version Zip to IngredientDetect-11 in multiclass:: 100%|██████████| 44290/44290 [00:21<00:00, 2104.79it/s]\n"
          ]
        }
      ]
    },
    {
      "cell_type": "markdown",
      "source": [
        "### class  확인"
      ],
      "metadata": {
        "id": "FHtJMNWNjr2m"
      }
    },
    {
      "cell_type": "code",
      "source": [
        "import os\n",
        "\n",
        "def check_class(train_path, valid_path):\n",
        "  train_fnames = os.listdir(train_path)\n",
        "  valid_fnames = os.listdir(valid_path)\n",
        "\n",
        "  train_class_file = [fname for fname in train_fnames if '.csv' in fname ]\n",
        "  valid_class_file = [fname for fname in valid_fnames if '.csv' in fname ]\n",
        "\n",
        "  train_class = pd.read_csv(os.path.join(train_path,train_class_file[0]))\n",
        "  valid_class = pd.read_csv(os.path.join(valid_path,valid_class_file[0]))\n",
        "\n",
        "  print(len(train_class.columns))\n",
        "  print(train_class.columns)\n",
        "  print(valid_class.columns)\n"
      ],
      "metadata": {
        "id": "D_3rPHe2LWZP"
      },
      "execution_count": 21,
      "outputs": []
    },
    {
      "cell_type": "code",
      "source": [
        "import pandas as pd"
      ],
      "metadata": {
        "id": "pRnfK8tjlBop"
      },
      "execution_count": 22,
      "outputs": []
    },
    {
      "cell_type": "code",
      "source": [
        "# Food-Ingredient-Recognition-4\n",
        "check_class('/content/Food-Ingredient-Recognition-4/train','/content/Food-Ingredient-Recognition-4/valid')"
      ],
      "metadata": {
        "colab": {
          "base_uri": "https://localhost:8080/"
        },
        "id": "6TmLOrBClDV8",
        "outputId": "90034c2e-464a-45f8-9d2e-b0b98715ef60"
      },
      "execution_count": 23,
      "outputs": [
        {
          "output_type": "stream",
          "name": "stdout",
          "text": [
            "62\n",
            "Index(['filename', ' '', ' -', ' apple', ' asparagus', ' avocado', ' banana',\n",
            "       ' bell pepper', ' bitter gourd', ' bok choy', ' broccoli', ' cabbage',\n",
            "       ' carrot', ' cashew', ' cauliflower', ' chayote', ' chicken breast',\n",
            "       ' chicken thigh', ' chicken wing', ' chilli', ' coconut', ' coconuts',\n",
            "       ' corn', ' crab', ' cucumber', ' egg', ' egg_', ' eggplant', ' garlic',\n",
            "       ' ginger', ' grapes', ' lemon', ' lettuce', ' lobster tails', ' mango',\n",
            "       ' melon', ' milk', ' onion', ' orange', ' oysters', ' pawpaw',\n",
            "       ' peanuts', ' peas', ' peper', ' pepper', ' pineapple', ' pork belly',\n",
            "       ' potato', ' pumpkin', ' radishes', ' red rice', ' salmon',\n",
            "       ' sea scallops', ' shrimp', ' spinach', ' strawberry', ' sweet potato',\n",
            "       ' tempeh', ' tofu', ' tomato', ' tuna', ' white rice'],\n",
            "      dtype='object')\n",
            "Index(['filename', ' '', ' -', ' apple', ' asparagus', ' avocado', ' banana',\n",
            "       ' bell pepper', ' bitter gourd', ' bok choy', ' broccoli', ' cabbage',\n",
            "       ' carrot', ' cashew', ' cauliflower', ' chayote', ' chicken breast',\n",
            "       ' chicken thigh', ' chicken wing', ' chilli', ' coconut', ' coconuts',\n",
            "       ' corn', ' crab', ' cucumber', ' egg', ' egg_', ' eggplant', ' garlic',\n",
            "       ' ginger', ' grapes', ' lemon', ' lettuce', ' lobster tails', ' mango',\n",
            "       ' melon', ' milk', ' onion', ' orange', ' oysters', ' pawpaw',\n",
            "       ' peanuts', ' peas', ' peper', ' pepper', ' pineapple', ' pork belly',\n",
            "       ' potato', ' pumpkin', ' radishes', ' red rice', ' salmon',\n",
            "       ' sea scallops', ' shrimp', ' spinach', ' strawberry', ' sweet potato',\n",
            "       ' tempeh', ' tofu', ' tomato', ' tuna', ' white rice'],\n",
            "      dtype='object')\n"
          ]
        }
      ]
    },
    {
      "cell_type": "code",
      "source": [
        "# Food-Ingredients-Image-Detection_Team4-1\n",
        "check_class('/content/Food-Ingredients-Image-Detection_Team4-1/train','/content/Food-Ingredients-Image-Detection_Team4-1/valid')\n"
      ],
      "metadata": {
        "colab": {
          "base_uri": "https://localhost:8080/"
        },
        "id": "sMPCIZ07ppkZ",
        "outputId": "a542bc23-393b-40eb-f950-8b373c133454"
      },
      "execution_count": 24,
      "outputs": [
        {
          "output_type": "stream",
          "name": "stdout",
          "text": [
            "164\n",
            "Index(['filename', ' -', ' 10_pineapple', ' 10_tangerine', ' Apple', ' Bagel',\n",
            "       ' Banana', ' Bitter melon', ' Cucumber', ' Garlic',\n",
            "       ...\n",
            "       ' tofu', ' tomato', ' tomato_sauce', ' tortillas', ' tuna', ' turkey',\n",
            "       ' watermelon', ' white rice', ' yogurt', ' zucchini'],\n",
            "      dtype='object', length=164)\n",
            "Index(['filename', ' -', ' 10_pineapple', ' 10_tangerine', ' Apple', ' Bagel',\n",
            "       ' Banana', ' Bitter melon', ' Cucumber', ' Garlic',\n",
            "       ...\n",
            "       ' tofu', ' tomato', ' tomato_sauce', ' tortillas', ' tuna', ' turkey',\n",
            "       ' watermelon', ' white rice', ' yogurt', ' zucchini'],\n",
            "      dtype='object', length=164)\n"
          ]
        }
      ]
    },
    {
      "cell_type": "code",
      "source": [
        "# IngredientDetect-11\n",
        "check_class('/content/IngredientDetect-11/train','/content/IngredientDetect-11/valid')\n"
      ],
      "metadata": {
        "colab": {
          "base_uri": "https://localhost:8080/"
        },
        "outputId": "8d222df1-36fb-4063-e785-d7f4fdaa2f14",
        "id": "6E3JO2biqL3Z"
      },
      "execution_count": 25,
      "outputs": [
        {
          "output_type": "stream",
          "name": "stdout",
          "text": [
            "28\n",
            "Index(['filename', ' ampalaya', ' bangus', ' beef', ' bellpepper', ' cabbage',\n",
            "       ' carrot', ' chicken', ' egg', ' eggplant', ' galunggong', ' ginger',\n",
            "       ' green chilli', ' hotdog', ' kangkong', ' okra', ' onion', ' pechay',\n",
            "       ' pork', ' potato', ' radish', ' red chili', ' rice', ' sayote',\n",
            "       ' shrimp', ' sitaw', ' tilapia', ' tomato'],\n",
            "      dtype='object')\n",
            "Index(['filename', ' ampalaya', ' bangus', ' beef', ' bellpepper', ' cabbage',\n",
            "       ' carrot', ' chicken', ' egg', ' eggplant', ' galunggong', ' ginger',\n",
            "       ' green chilli', ' hotdog', ' kangkong', ' okra', ' onion', ' pechay',\n",
            "       ' pork', ' potato', ' radish', ' red chili', ' rice', ' sayote',\n",
            "       ' shrimp', ' sitaw', ' tilapia', ' tomato'],\n",
            "      dtype='object')\n"
          ]
        }
      ]
    },
    {
      "cell_type": "code",
      "source": [
        "# Tornado\n",
        "check_class('/content/Tornado-3/train','/content/Tornado-3/valid')\n"
      ],
      "metadata": {
        "colab": {
          "base_uri": "https://localhost:8080/"
        },
        "outputId": "2655775f-12aa-46b8-dea5-0fe61cc287b7",
        "id": "wllB5BXZqMV7"
      },
      "execution_count": 26,
      "outputs": [
        {
          "output_type": "stream",
          "name": "stdout",
          "text": [
            "98\n",
            "Index(['filename', ' apple', ' asparagus', ' avocado', ' banana', ' beef',\n",
            "       ' bell_pepper', ' bento', ' blueberries', ' bottle', ' bread',\n",
            "       ' broccoli', ' butter', ' can', ' carrot', ' cauliflower', ' cheese',\n",
            "       ' cherry', ' chicken', ' chicken_breast', ' chocolate', ' coffee',\n",
            "       ' corn', ' cream-cheese', ' cucumber', ' dates', ' egg', ' eggplant',\n",
            "       ' fish', ' flour', ' garlic', ' ginger', ' goat_cheese', ' grapefruit',\n",
            "       ' grapes', ' grated_cheese', ' green-chillies', ' green_beans',\n",
            "       ' ground_beef', ' guacamole', ' ham', ' heavy_cream', ' humus',\n",
            "       ' juice', ' ketchup', ' kiwi', ' leek', ' lemon', ' lettuce', ' lime',\n",
            "       ' mango', ' marmelade', ' mayonaise', ' milk', ' mint', ' mushrooms',\n",
            "       ' mustard', ' nuts', ' olives', ' onion', ' orange', ' pak_choi',\n",
            "       ' parsley', ' peach', ' pear', ' peas', ' pickles', ' pineapple',\n",
            "       ' plasticsaveholder', ' pomegrante', ' pot', ' potato', ' potatoes',\n",
            "       ' pudding', ' radish', ' red_cabbage', ' red_grapes', ' red_onion',\n",
            "       ' rice_ball', ' salad', ' salami', ' sandwich', ' sausage', ' shrimp',\n",
            "       ' smoothie', ' spinach', ' spring_onion', ' strawberries', ' sugar',\n",
            "       ' sweet_potato', ' tangerine', ' tomato', ' tomato_sauce', ' tortillas',\n",
            "       ' turkey', ' watermelon', ' yogurt', ' zucchini'],\n",
            "      dtype='object')\n",
            "Index(['filename', ' apple', ' asparagus', ' avocado', ' banana', ' beef',\n",
            "       ' bell_pepper', ' bento', ' blueberries', ' bottle', ' bread',\n",
            "       ' broccoli', ' butter', ' can', ' carrot', ' cauliflower', ' cheese',\n",
            "       ' cherry', ' chicken', ' chicken_breast', ' chocolate', ' coffee',\n",
            "       ' corn', ' cream-cheese', ' cucumber', ' dates', ' egg', ' eggplant',\n",
            "       ' fish', ' flour', ' garlic', ' ginger', ' goat_cheese', ' grapefruit',\n",
            "       ' grapes', ' grated_cheese', ' green-chillies', ' green_beans',\n",
            "       ' ground_beef', ' guacamole', ' ham', ' heavy_cream', ' humus',\n",
            "       ' juice', ' ketchup', ' kiwi', ' leek', ' lemon', ' lettuce', ' lime',\n",
            "       ' mango', ' marmelade', ' mayonaise', ' milk', ' mint', ' mushrooms',\n",
            "       ' mustard', ' nuts', ' olives', ' onion', ' orange', ' pak_choi',\n",
            "       ' parsley', ' peach', ' pear', ' peas', ' pickles', ' pineapple',\n",
            "       ' plasticsaveholder', ' pomegrante', ' pot', ' potato', ' potatoes',\n",
            "       ' pudding', ' radish', ' red_cabbage', ' red_grapes', ' red_onion',\n",
            "       ' rice_ball', ' salad', ' salami', ' sandwich', ' sausage', ' shrimp',\n",
            "       ' smoothie', ' spinach', ' spring_onion', ' strawberries', ' sugar',\n",
            "       ' sweet_potato', ' tangerine', ' tomato', ' tomato_sauce', ' tortillas',\n",
            "       ' turkey', ' watermelon', ' yogurt', ' zucchini'],\n",
            "      dtype='object')\n"
          ]
        }
      ]
    },
    {
      "cell_type": "code",
      "source": [],
      "metadata": {
        "id": "OZS-889KqI--"
      },
      "execution_count": null,
      "outputs": []
    }
  ]
}